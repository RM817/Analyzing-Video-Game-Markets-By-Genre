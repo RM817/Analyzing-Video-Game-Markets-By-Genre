{
 "cells": [
  {
   "cell_type": "markdown",
   "metadata": {},
   "source": [
    "# Analyzing Video Game Markets By Genre"
   ]
  },
  {
   "cell_type": "markdown",
   "metadata": {},
   "source": [
    "## Capstone 2: Ronald Musser  \n",
    "  \n",
    "  \n",
    "The full code for this capstone can be found...."
   ]
  },
  {
   "cell_type": "markdown",
   "metadata": {},
   "source": [
    "### Introduction"
   ]
  },
  {
   "cell_type": "markdown",
   "metadata": {},
   "source": [
    "Over the last few years, the video game industry has overtaken every other major form of entertainment as far as revenue. Newzoo is forecasting a total of $152 billion in sales for the video game industry this year and it is only growing.\n",
    "It is neccessary to understand the markets around the world in order to continue this growth."
   ]
  },
  {
   "cell_type": "markdown",
   "metadata": {},
   "source": [
    "In order to understand the major markets around the world, video game sales (> 100,000 copies sold) from 2007 to 2016 were collected and broke down by region (North America, Europe, Japan, and Other).\n",
    "These sales were analyzed by looking at the distribution of sales by genre for each region. T-Tests were performed in order to determine if the genre sales differed from region to region.\n",
    "This information could guide companies on which regions to focus on during ad campaigns and also what regions still have major potential for growth."
   ]
  },
  {
   "cell_type": "markdown",
   "metadata": {},
   "source": [
    "![title](totalsales_region4.png)"
   ]
  },
  {
   "cell_type": "markdown",
   "metadata": {},
   "source": [
    "Displayed above is the total copies sold per region from 2007 to 2016. It is obvious that the North American market is the largest followed by the European, Other, and Japanese.\n",
    "This information in its own right can be useful, but it is more insightful to break down the data further in order to gain insight into why they are different."
   ]
  },
  {
   "cell_type": "markdown",
   "metadata": {},
   "source": [
    "### Genre Breakdown"
   ]
  },
  {
   "cell_type": "code",
   "execution_count": 2,
   "metadata": {},
   "outputs": [
    {
     "data": {
      "text/html": [
       "<div>\n",
       "<style scoped>\n",
       "    .dataframe tbody tr th:only-of-type {\n",
       "        vertical-align: middle;\n",
       "    }\n",
       "\n",
       "    .dataframe tbody tr th {\n",
       "        vertical-align: top;\n",
       "    }\n",
       "\n",
       "    .dataframe thead th {\n",
       "        text-align: right;\n",
       "    }\n",
       "</style>\n",
       "<table border=\"1\" class=\"dataframe\">\n",
       "  <thead>\n",
       "    <tr style=\"text-align: right;\">\n",
       "      <th></th>\n",
       "      <th>NA_Sales</th>\n",
       "      <th>EU_Sales</th>\n",
       "      <th>JP_Sales</th>\n",
       "      <th>Other_Sales</th>\n",
       "      <th>Global_Sales</th>\n",
       "    </tr>\n",
       "    <tr>\n",
       "      <th>Genre</th>\n",
       "      <th></th>\n",
       "      <th></th>\n",
       "      <th></th>\n",
       "      <th></th>\n",
       "      <th></th>\n",
       "    </tr>\n",
       "  </thead>\n",
       "  <tbody>\n",
       "    <tr>\n",
       "      <th>Action</th>\n",
       "      <td>4921.7</td>\n",
       "      <td>3356.7</td>\n",
       "      <td>963.0</td>\n",
       "      <td>1264.6</td>\n",
       "      <td>10511.4</td>\n",
       "    </tr>\n",
       "    <tr>\n",
       "      <th>Adventure</th>\n",
       "      <td>564.1</td>\n",
       "      <td>353.2</td>\n",
       "      <td>269.1</td>\n",
       "      <td>113.5</td>\n",
       "      <td>1300.8</td>\n",
       "    </tr>\n",
       "    <tr>\n",
       "      <th>Fighting</th>\n",
       "      <td>818.7</td>\n",
       "      <td>381.5</td>\n",
       "      <td>257.9</td>\n",
       "      <td>201.9</td>\n",
       "      <td>1659.3</td>\n",
       "    </tr>\n",
       "    <tr>\n",
       "      <th>Misc</th>\n",
       "      <td>2591.6</td>\n",
       "      <td>1276.2</td>\n",
       "      <td>487.9</td>\n",
       "      <td>523.2</td>\n",
       "      <td>4880.5</td>\n",
       "    </tr>\n",
       "    <tr>\n",
       "      <th>Platform</th>\n",
       "      <td>1111.4</td>\n",
       "      <td>698.2</td>\n",
       "      <td>259.9</td>\n",
       "      <td>235.0</td>\n",
       "      <td>2305.2</td>\n",
       "    </tr>\n",
       "    <tr>\n",
       "      <th>Puzzle</th>\n",
       "      <td>381.2</td>\n",
       "      <td>256.9</td>\n",
       "      <td>90.3</td>\n",
       "      <td>63.4</td>\n",
       "      <td>794.1</td>\n",
       "    </tr>\n",
       "    <tr>\n",
       "      <th>Racing</th>\n",
       "      <td>1126.8</td>\n",
       "      <td>1046.3</td>\n",
       "      <td>123.3</td>\n",
       "      <td>355.5</td>\n",
       "      <td>2652.9</td>\n",
       "    </tr>\n",
       "    <tr>\n",
       "      <th>Role-Playing</th>\n",
       "      <td>1754.1</td>\n",
       "      <td>1026.7</td>\n",
       "      <td>1506.0</td>\n",
       "      <td>364.0</td>\n",
       "      <td>4649.2</td>\n",
       "    </tr>\n",
       "    <tr>\n",
       "      <th>Shooter</th>\n",
       "      <td>3501.1</td>\n",
       "      <td>2301.6</td>\n",
       "      <td>174.6</td>\n",
       "      <td>810.7</td>\n",
       "      <td>6790.6</td>\n",
       "    </tr>\n",
       "    <tr>\n",
       "      <th>Simulation</th>\n",
       "      <td>974.6</td>\n",
       "      <td>636.2</td>\n",
       "      <td>209.3</td>\n",
       "      <td>174.1</td>\n",
       "      <td>1996.1</td>\n",
       "    </tr>\n",
       "    <tr>\n",
       "      <th>Sports</th>\n",
       "      <td>3238.6</td>\n",
       "      <td>2114.9</td>\n",
       "      <td>402.8</td>\n",
       "      <td>824.4</td>\n",
       "      <td>6583.8</td>\n",
       "    </tr>\n",
       "    <tr>\n",
       "      <th>Strategy</th>\n",
       "      <td>264.2</td>\n",
       "      <td>232.7</td>\n",
       "      <td>132.2</td>\n",
       "      <td>60.8</td>\n",
       "      <td>691.2</td>\n",
       "    </tr>\n",
       "  </tbody>\n",
       "</table>\n",
       "</div>"
      ],
      "text/plain": [
       "              NA_Sales  EU_Sales  JP_Sales  Other_Sales  Global_Sales\n",
       "Genre                                                                \n",
       "Action          4921.7    3356.7     963.0       1264.6       10511.4\n",
       "Adventure        564.1     353.2     269.1        113.5        1300.8\n",
       "Fighting         818.7     381.5     257.9        201.9        1659.3\n",
       "Misc            2591.6    1276.2     487.9        523.2        4880.5\n",
       "Platform        1111.4     698.2     259.9        235.0        2305.2\n",
       "Puzzle           381.2     256.9      90.3         63.4         794.1\n",
       "Racing          1126.8    1046.3     123.3        355.5        2652.9\n",
       "Role-Playing    1754.1    1026.7    1506.0        364.0        4649.2\n",
       "Shooter         3501.1    2301.6     174.6        810.7        6790.6\n",
       "Simulation       974.6     636.2     209.3        174.1        1996.1\n",
       "Sports          3238.6    2114.9     402.8        824.4        6583.8\n",
       "Strategy         264.2     232.7     132.2         60.8         691.2"
      ]
     },
     "execution_count": 2,
     "metadata": {},
     "output_type": "execute_result"
    }
   ],
   "source": [
    "import numpy as np\n",
    "import pandas as pd\n",
    "import matplotlib.pyplot as plt\n",
    "import seaborn as sns\n",
    "from scipy import stats\n",
    "from scipy.stats import chisquare\n",
    "%matplotlib inline\n",
    "DF_genresum = pd.read_pickle('DF_genresum')\n",
    "DF_genresum"
   ]
  },
  {
   "cell_type": "markdown",
   "metadata": {},
   "source": [
    "The total sales (in millions of copies) by region are displayed above for each genre. My hypothesis is that each region will have its own unique sales distribution for every genre. Although many of the values are different, this does not necessarily mean the consumer behavior is. It is important to look into the distributions and determine the variability through a t-test. A p-value below the significance level (0.05) will allow for the rejection of the null hypothesis which states that the distributions are the same. Below are mean sales plots and t-tests for each region for certain genres."
   ]
  },
  {
   "cell_type": "markdown",
   "metadata": {},
   "source": [
    "### Genre Analysis  \n",
    "  \n",
    "  \n",
    "#### Action"
   ]
  },
  {
   "cell_type": "markdown",
   "metadata": {},
   "source": [
    "![title](act_graph.png)\n",
    "![title](act_graph2.png)"
   ]
  },
  {
   "cell_type": "markdown",
   "metadata": {},
   "source": [
    "The mean sales for each region is displayed above for the action video game genre. As you will see in most genres, North America dominates the sales and is typically followed by Europe. \n",
    "While being the highest selling genre in most regions, the mean copies sold is fairly average. This indicates saturation in the market and is proven by having more than double the releases of most other genres. \n",
    "Looking at the log transformed distribution for each region, Japan has a large portion of titles that are at or near the 0 sales mark, doubling that of North America. \n",
    "The second set of peaks higher along the scale show that North America has the largest distrubtion with the highest max frequency. \n",
    "While Europe has a lower height than Other, the width and higher copies sold value make Europe a better market for the action genre. \n",
    "Although this is the highest grossing category, it is also the most competitive and a game published under this genre will not necessarily equate to large sales. \n",
    "However, it is necessary to perform a t-test to determine if the distributions are significantly different or just happenstance. Below are the results of each test conducted by SciPy's ttest function within the action genre. "
   ]
  },
  {
   "cell_type": "code",
   "execution_count": 3,
   "metadata": {},
   "outputs": [
    {
     "data": {
      "text/html": [
       "<div>\n",
       "<style scoped>\n",
       "    .dataframe tbody tr th:only-of-type {\n",
       "        vertical-align: middle;\n",
       "    }\n",
       "\n",
       "    .dataframe tbody tr th {\n",
       "        vertical-align: top;\n",
       "    }\n",
       "\n",
       "    .dataframe thead th {\n",
       "        text-align: right;\n",
       "    }\n",
       "</style>\n",
       "<table border=\"1\" class=\"dataframe\">\n",
       "  <thead>\n",
       "    <tr style=\"text-align: right;\">\n",
       "      <th></th>\n",
       "      <th>Test Groups</th>\n",
       "      <th>Statistic</th>\n",
       "      <th>P-Value</th>\n",
       "    </tr>\n",
       "  </thead>\n",
       "  <tbody>\n",
       "    <tr>\n",
       "      <th>0</th>\n",
       "      <td>NA vs EU</td>\n",
       "      <td>5.06</td>\n",
       "      <td>4.370000e-07</td>\n",
       "    </tr>\n",
       "    <tr>\n",
       "      <th>1</th>\n",
       "      <td>NA vs JP</td>\n",
       "      <td>15.81</td>\n",
       "      <td>8.150000e-55</td>\n",
       "    </tr>\n",
       "    <tr>\n",
       "      <th>2</th>\n",
       "      <td>NA vs Other</td>\n",
       "      <td>14.53</td>\n",
       "      <td>9.740000e-47</td>\n",
       "    </tr>\n",
       "    <tr>\n",
       "      <th>3</th>\n",
       "      <td>JP vs Other</td>\n",
       "      <td>-2.90</td>\n",
       "      <td>4.000000e-03</td>\n",
       "    </tr>\n",
       "  </tbody>\n",
       "</table>\n",
       "</div>"
      ],
      "text/plain": [
       "   Test Groups  Statistic       P-Value\n",
       "0     NA vs EU       5.06  4.370000e-07\n",
       "1     NA vs JP      15.81  8.150000e-55\n",
       "2  NA vs Other      14.53  9.740000e-47\n",
       "3  JP vs Other      -2.90  4.000000e-03"
      ]
     },
     "execution_count": 3,
     "metadata": {},
     "output_type": "execute_result"
    }
   ],
   "source": [
    "pd.read_pickle('DF_act_test')"
   ]
  },
  {
   "cell_type": "markdown",
   "metadata": {},
   "source": [
    "From the test above, it is obvious that each region's sales distribution is significantly different. While Japan and Other's distributions are not the same, they have the closest relationship out of all the regions. It is important to know that although the volume is not the same, this genre is still ranked 2nd and 1st among the Japanese and Other markets respectively."
   ]
  },
  {
   "cell_type": "markdown",
   "metadata": {},
   "source": [
    "#### Platform"
   ]
  },
  {
   "cell_type": "markdown",
   "metadata": {},
   "source": [
    "![title](plt_graph.png)\n",
    "![title](plt_graph2.png)"
   ]
  },
  {
   "cell_type": "markdown",
   "metadata": {},
   "source": [
    "The largest genre at the start of this entertainment industry began to fall once 3-D graphics were introduced. \n",
    "However, this category has seen a rise as of late with independent and large developers alike. \n",
    "As you can see, the mean copies sold in this genre is extremely high even though it is only the 7th highest grossing, higher than that of the top genre, action. \n",
    "Looking at the distrubtion gives more insight into this behavior. \n",
    "Each of the region's low sales peaks are smaller compared to the action genre. \n",
    "This means that there are more games in the higher peak's distrubtion, creating a high average copies sold per title. \n",
    "The number of titles released under this category is low compared to others yet they still have a consistent customer base that keeps the average sales near the top."
   ]
  },
  {
   "cell_type": "code",
   "execution_count": 9,
   "metadata": {},
   "outputs": [
    {
     "data": {
      "text/html": [
       "<div>\n",
       "<style scoped>\n",
       "    .dataframe tbody tr th:only-of-type {\n",
       "        vertical-align: middle;\n",
       "    }\n",
       "\n",
       "    .dataframe tbody tr th {\n",
       "        vertical-align: top;\n",
       "    }\n",
       "\n",
       "    .dataframe thead th {\n",
       "        text-align: right;\n",
       "    }\n",
       "</style>\n",
       "<table border=\"1\" class=\"dataframe\">\n",
       "  <thead>\n",
       "    <tr style=\"text-align: right;\">\n",
       "      <th></th>\n",
       "      <th>Test Groups</th>\n",
       "      <th>Statistic</th>\n",
       "      <th>P-Value</th>\n",
       "    </tr>\n",
       "  </thead>\n",
       "  <tbody>\n",
       "    <tr>\n",
       "      <th>0</th>\n",
       "      <td>NA vs EU</td>\n",
       "      <td>1.99</td>\n",
       "      <td>0.047000</td>\n",
       "    </tr>\n",
       "    <tr>\n",
       "      <th>1</th>\n",
       "      <td>NA vs JP</td>\n",
       "      <td>4.42</td>\n",
       "      <td>0.000012</td>\n",
       "    </tr>\n",
       "    <tr>\n",
       "      <th>2</th>\n",
       "      <td>NA vs Other</td>\n",
       "      <td>4.76</td>\n",
       "      <td>0.000002</td>\n",
       "    </tr>\n",
       "    <tr>\n",
       "      <th>3</th>\n",
       "      <td>JP vs Other</td>\n",
       "      <td>0.34</td>\n",
       "      <td>0.731000</td>\n",
       "    </tr>\n",
       "  </tbody>\n",
       "</table>\n",
       "</div>"
      ],
      "text/plain": [
       "   Test Groups  Statistic   P-Value\n",
       "0     NA vs EU       1.99  0.047000\n",
       "1     NA vs JP       4.42  0.000012\n",
       "2  NA vs Other       4.76  0.000002\n",
       "3  JP vs Other       0.34  0.731000"
      ]
     },
     "execution_count": 9,
     "metadata": {},
     "output_type": "execute_result"
    }
   ],
   "source": [
    "pd.read_pickle('DF_plt_test')"
   ]
  },
  {
   "cell_type": "markdown",
   "metadata": {},
   "source": [
    "The North American market is shown to differ from every other one for the platform genre due to the low p-values. The similar differences that the Japanese and Other markets have to the North American one requires its own t-test. With a p-value of 0.73, it seems that the Japanese and Other markets for the platform genre are not significantly different. Therefore, the null hypothesis can't be rejected for these two markets."
   ]
  },
  {
   "cell_type": "markdown",
   "metadata": {},
   "source": [
    "#### Racing"
   ]
  },
  {
   "cell_type": "markdown",
   "metadata": {},
   "source": [
    "![title](rac_graph.png)\n",
    "![title](rac_graph2.png)"
   ]
  },
  {
   "cell_type": "markdown",
   "metadata": {},
   "source": [
    "While not the largest, the racing genre is still fairly popular around the world. \n",
    "The average mean sales are respectable and unusually high in the European market, almost matching the North American one. \n",
    "This is reversed by the disinterested Japanese market where the mean copies sold sits around 250K. \n",
    "The distrubtion shows that the majority of racing games go on to sell poorly if not at all in Japan. \n",
    "The mean values of the second peaks for both North America and Europe almost match perfectly, with Europe having a slightly lower volume. \n",
    "This relationship hints towards the p-value for a t-test between North America and Europe to be fairly high, signaling a similar distribution."
   ]
  },
  {
   "cell_type": "code",
   "execution_count": 5,
   "metadata": {},
   "outputs": [
    {
     "data": {
      "text/html": [
       "<div>\n",
       "<style scoped>\n",
       "    .dataframe tbody tr th:only-of-type {\n",
       "        vertical-align: middle;\n",
       "    }\n",
       "\n",
       "    .dataframe tbody tr th {\n",
       "        vertical-align: top;\n",
       "    }\n",
       "\n",
       "    .dataframe thead th {\n",
       "        text-align: right;\n",
       "    }\n",
       "</style>\n",
       "<table border=\"1\" class=\"dataframe\">\n",
       "  <thead>\n",
       "    <tr style=\"text-align: right;\">\n",
       "      <th></th>\n",
       "      <th>Test Groups</th>\n",
       "      <th>Statistic</th>\n",
       "      <th>P-Value</th>\n",
       "    </tr>\n",
       "  </thead>\n",
       "  <tbody>\n",
       "    <tr>\n",
       "      <th>0</th>\n",
       "      <td>NA vs EU</td>\n",
       "      <td>0.34</td>\n",
       "      <td>7.300000e-01</td>\n",
       "    </tr>\n",
       "    <tr>\n",
       "      <th>1</th>\n",
       "      <td>NA vs JP</td>\n",
       "      <td>5.39</td>\n",
       "      <td>8.750000e-08</td>\n",
       "    </tr>\n",
       "    <tr>\n",
       "      <th>2</th>\n",
       "      <td>NA vs Other</td>\n",
       "      <td>4.15</td>\n",
       "      <td>3.620000e-05</td>\n",
       "    </tr>\n",
       "    <tr>\n",
       "      <th>3</th>\n",
       "      <td>JP vs Other</td>\n",
       "      <td>-3.36</td>\n",
       "      <td>8.130000e-04</td>\n",
       "    </tr>\n",
       "  </tbody>\n",
       "</table>\n",
       "</div>"
      ],
      "text/plain": [
       "   Test Groups  Statistic       P-Value\n",
       "0     NA vs EU       0.34  7.300000e-01\n",
       "1     NA vs JP       5.39  8.750000e-08\n",
       "2  NA vs Other       4.15  3.620000e-05\n",
       "3  JP vs Other      -3.36  8.130000e-04"
      ]
     },
     "execution_count": 5,
     "metadata": {},
     "output_type": "execute_result"
    }
   ],
   "source": [
    "pd.read_pickle('DF_rac_test')"
   ]
  },
  {
   "cell_type": "markdown",
   "metadata": {},
   "source": [
    "The statistic and the p-value that we see for the North American market compared to the European confirms the information from above. These two markets are not significantly different when comparing sales in the racing genre. This tells us that the relative success for a racing game in North America will be mimicked in Europe. However, every other market seems to be different are low compared to the previous two."
   ]
  },
  {
   "cell_type": "markdown",
   "metadata": {},
   "source": [
    "#### Role-Playing"
   ]
  },
  {
   "cell_type": "markdown",
   "metadata": {},
   "source": [
    "![title](rlp_graph.png)\n",
    "![title](rlp_graph2.png)"
   ]
  },
  {
   "cell_type": "markdown",
   "metadata": {},
   "source": [
    "The mean copies sold for each region in the role-playing genre are closer than any other category. \n",
    "The North American sales are a bit lower than usual while the smaller makert of Japan is significantly higher than normal, even eclipsing Europe. \n",
    "The Other market is in last for sales, dipping below 500K mean copies sold. \n",
    "The log transformed distribution tells a similar story. \n",
    "The volume at the 0 peak is extremely low while the high sales peak is enormous. \n",
    "Role-playing games in the Japanese market are a huge hit and tend do be quite successful. \n",
    "The North American market seems similar to the Japanese with a fairly small 0 peak distrubtion. \n",
    "The second peak for North America does not have the same volume however. \n",
    "From these graphs, it would be reasonable to suggest that the North American, European, and Japanese markets might not be significantly different. \n",
    "The only way to prove this is to perform the proper t-test.  "
   ]
  },
  {
   "cell_type": "code",
   "execution_count": 6,
   "metadata": {},
   "outputs": [
    {
     "data": {
      "text/html": [
       "<div>\n",
       "<style scoped>\n",
       "    .dataframe tbody tr th:only-of-type {\n",
       "        vertical-align: middle;\n",
       "    }\n",
       "\n",
       "    .dataframe tbody tr th {\n",
       "        vertical-align: top;\n",
       "    }\n",
       "\n",
       "    .dataframe thead th {\n",
       "        text-align: right;\n",
       "    }\n",
       "</style>\n",
       "<table border=\"1\" class=\"dataframe\">\n",
       "  <thead>\n",
       "    <tr style=\"text-align: right;\">\n",
       "      <th></th>\n",
       "      <th>Test Groups</th>\n",
       "      <th>Statistic</th>\n",
       "      <th>P-Value</th>\n",
       "    </tr>\n",
       "  </thead>\n",
       "  <tbody>\n",
       "    <tr>\n",
       "      <th>0</th>\n",
       "      <td>NA vs EU</td>\n",
       "      <td>3.83</td>\n",
       "      <td>1.340000e-04</td>\n",
       "    </tr>\n",
       "    <tr>\n",
       "      <th>1</th>\n",
       "      <td>NA vs JP</td>\n",
       "      <td>1.16</td>\n",
       "      <td>2.500000e-01</td>\n",
       "    </tr>\n",
       "    <tr>\n",
       "      <th>2</th>\n",
       "      <td>NA vs Other</td>\n",
       "      <td>8.62</td>\n",
       "      <td>1.490000e-17</td>\n",
       "    </tr>\n",
       "    <tr>\n",
       "      <th>3</th>\n",
       "      <td>EU vs JP</td>\n",
       "      <td>-2.68</td>\n",
       "      <td>7.450000e-03</td>\n",
       "    </tr>\n",
       "  </tbody>\n",
       "</table>\n",
       "</div>"
      ],
      "text/plain": [
       "   Test Groups  Statistic       P-Value\n",
       "0     NA vs EU       3.83  1.340000e-04\n",
       "1     NA vs JP       1.16  2.500000e-01\n",
       "2  NA vs Other       8.62  1.490000e-17\n",
       "3     EU vs JP      -2.68  7.450000e-03"
      ]
     },
     "execution_count": 6,
     "metadata": {},
     "output_type": "execute_result"
    }
   ],
   "source": [
    "pd.read_pickle('DF_rlp_test')"
   ]
  },
  {
   "cell_type": "markdown",
   "metadata": {},
   "source": [
    "The first and only instance of the North American and Japanese market not being significantly different is within the role-playing genre. The p-value of 0.25 shows we can't reject the idea that these distributions are different purely by chance. Every other market does appear to be different however. This behavior makes sense seeing as a large portion of the top role-playing games come from Japanese developers."
   ]
  },
  {
   "cell_type": "markdown",
   "metadata": {},
   "source": [
    "#### Shooter"
   ]
  },
  {
   "cell_type": "markdown",
   "metadata": {},
   "source": [
    "![title](sho_graph.png)\n",
    "![title](sho_graph2.png)"
   ]
  },
  {
   "cell_type": "markdown",
   "metadata": {},
   "source": [
    "From first glance, the shooter genre seems to be a huge success in North America and Europe. \n",
    "The 0 peak for North America, Europe, and Other are all below 5% while Japan's is nearing 15%. \n",
    "Looking at the second peak, it is clear that the volume from the other three markets are clearly superior to that of Japan. \n",
    "North America and Europe's mean values are relatively close, with North America's frequency being a bit larger. \n",
    "The Other's mean value for the second peak is a bit lower, matching with Japan's.\n",
    "Although the volume is different, this could still mean that the distributions are similar. "
   ]
  },
  {
   "cell_type": "code",
   "execution_count": 7,
   "metadata": {},
   "outputs": [
    {
     "data": {
      "text/html": [
       "<div>\n",
       "<style scoped>\n",
       "    .dataframe tbody tr th:only-of-type {\n",
       "        vertical-align: middle;\n",
       "    }\n",
       "\n",
       "    .dataframe tbody tr th {\n",
       "        vertical-align: top;\n",
       "    }\n",
       "\n",
       "    .dataframe thead th {\n",
       "        text-align: right;\n",
       "    }\n",
       "</style>\n",
       "<table border=\"1\" class=\"dataframe\">\n",
       "  <thead>\n",
       "    <tr style=\"text-align: right;\">\n",
       "      <th></th>\n",
       "      <th>Test Groups</th>\n",
       "      <th>Statistic</th>\n",
       "      <th>P-Value</th>\n",
       "    </tr>\n",
       "  </thead>\n",
       "  <tbody>\n",
       "    <tr>\n",
       "      <th>0</th>\n",
       "      <td>NA vs EU</td>\n",
       "      <td>3.08</td>\n",
       "      <td>2.100000e-03</td>\n",
       "    </tr>\n",
       "    <tr>\n",
       "      <th>1</th>\n",
       "      <td>NA vs JP</td>\n",
       "      <td>9.12</td>\n",
       "      <td>3.510000e-19</td>\n",
       "    </tr>\n",
       "    <tr>\n",
       "      <th>2</th>\n",
       "      <td>NA vs Other</td>\n",
       "      <td>12.16</td>\n",
       "      <td>5.320000e-32</td>\n",
       "    </tr>\n",
       "    <tr>\n",
       "      <th>3</th>\n",
       "      <td>JP vs Other</td>\n",
       "      <td>0.63</td>\n",
       "      <td>5.320000e-01</td>\n",
       "    </tr>\n",
       "  </tbody>\n",
       "</table>\n",
       "</div>"
      ],
      "text/plain": [
       "   Test Groups  Statistic       P-Value\n",
       "0     NA vs EU       3.08  2.100000e-03\n",
       "1     NA vs JP       9.12  3.510000e-19\n",
       "2  NA vs Other      12.16  5.320000e-32\n",
       "3  JP vs Other       0.63  5.320000e-01"
      ]
     },
     "execution_count": 7,
     "metadata": {},
     "output_type": "execute_result"
    }
   ],
   "source": [
    "pd.read_pickle('DF_sho_test')"
   ]
  },
  {
   "cell_type": "markdown",
   "metadata": {},
   "source": [
    "The North American and European distributions are shown to not be similar enough to uphold the null hypothesis. \n",
    "There seems to be more successful and less failures in the shooter genre when it comes to the North American market. \n",
    "Even though the graphs make the difference between the Japanese and Other markets seems drastic, the t-test shows otherwise with a statistic of 0.63 and a p-value of 0.532. \n",
    "This is a great example of the importance of the t-test when determining if distributions are similar or not."
   ]
  },
  {
   "cell_type": "markdown",
   "metadata": {},
   "source": [
    "### Conclusion"
   ]
  },
  {
   "cell_type": "markdown",
   "metadata": {},
   "source": [
    "After much analysis, it was shown that each market has its own unique customer base and behavior. North America is the largest market for each genre, but it is followed closely by the other markets in certain instances. The North American and European markets are extremely similar when it comes to racing games but are significantly different in every other category. However, they do follow similar trends in which genres are popular in their respective regions. The Japanese and Other markets are similar in a few instances seen above. One interesting trend among the Japanese market is their love for role-playing games, rivaling that of the North American one. They are also uninterested in some popular genres like racing and shooting.  \n",
    "  \n",
    "  \n",
    "All of this information and analysis can be very useful for game developers and publishers alike. A developer deciding on what project to work on next could be influenced by this data based on their target audience. This decision could differe depending on if they are a local, small team or more of a AAA developer with a world wide customer base. Publishers could also accept/reject certain titles that are less or more likely to fail based on this key understanding of video game genre sales. Lastly, this project could be used to focus on which regions have room for growth within certain genres.\n",
    "  \n",
    "  \n",
    "No matter what business, it is vital to understand the behavior of the target audience and understand their buying habits. The information presented here is a necessary step in that process."
   ]
  },
  {
   "cell_type": "code",
   "execution_count": null,
   "metadata": {},
   "outputs": [],
   "source": []
  }
 ],
 "metadata": {
  "kernelspec": {
   "display_name": "Python 3",
   "language": "python",
   "name": "python3"
  },
  "language_info": {
   "codemirror_mode": {
    "name": "ipython",
    "version": 3
   },
   "file_extension": ".py",
   "mimetype": "text/x-python",
   "name": "python",
   "nbconvert_exporter": "python",
   "pygments_lexer": "ipython3",
   "version": "3.7.3"
  }
 },
 "nbformat": 4,
 "nbformat_minor": 2
}
